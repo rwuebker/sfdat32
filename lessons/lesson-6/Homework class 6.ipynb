{
 "cells": [
  {
   "cell_type": "markdown",
   "metadata": {},
   "source": [
    "## Assignment\n",
    "\n",
    "### Part I\n",
    "\n",
    "#### Clean your data\n",
    "\n",
    "+ Read in temp_data.txt\n",
    "    + It won't be easy! You'll need to find a way to clean the data\n",
    "    + Try opening the file in a text editor first\n",
    "+ Read in temp_X.csv\n",
    "+ Merge the X variable from temp_X with the data from temp_data\n",
    "+ Note that we discussed this in class, but it's something you'll just need to practice on your own. \n",
    "+ You will struggle with this and it's ok\n",
    "+ Check out the documentation for read_csv() in the pandas package\n",
    "\n",
    "\n",
    "### Part II\n",
    "\n",
    "#### Run a linear regression\n",
    "+ Using X to predict temperature \n",
    "+ Interpret your coefficients!\n",
    "+ What is one potential use for this linear regression equation? \n",
    "+ What does this linear regression mean? \n",
    "+ Is this a good model? Why or why not? \n",
    "\n",
    "    \n"
   ]
  },
  {
   "cell_type": "code",
   "execution_count": 1,
   "metadata": {
    "collapsed": true
   },
   "outputs": [],
   "source": [
    "import pandas as pd"
   ]
  },
  {
   "cell_type": "code",
   "execution_count": 2,
   "metadata": {
    "collapsed": false
   },
   "outputs": [],
   "source": [
    "df = pd.read_csv(\"temp_data.txt\", skiprows=111, header=None, sep='\\t')"
   ]
  },
  {
   "cell_type": "code",
   "execution_count": 3,
   "metadata": {
    "collapsed": false
   },
   "outputs": [],
   "source": [
    "df.columns = ['station_id', 'series_number', 'date', 'temp', 'uncertainty', 'observations','ob_hour'  ]\n"
   ]
  },
  {
   "cell_type": "code",
   "execution_count": 4,
   "metadata": {
    "collapsed": false
   },
   "outputs": [
    {
     "data": {
      "text/html": [
       "<div>\n",
       "<table border=\"1\" class=\"dataframe\">\n",
       "  <thead>\n",
       "    <tr style=\"text-align: right;\">\n",
       "      <th></th>\n",
       "      <th>station_id</th>\n",
       "      <th>series_number</th>\n",
       "      <th>date</th>\n",
       "      <th>temp</th>\n",
       "      <th>uncertainty</th>\n",
       "      <th>observations</th>\n",
       "      <th>ob_hour</th>\n",
       "    </tr>\n",
       "  </thead>\n",
       "  <tbody>\n",
       "    <tr>\n",
       "      <th>0</th>\n",
       "      <td>25398</td>\n",
       "      <td>1</td>\n",
       "      <td>1986.708</td>\n",
       "      <td>26.611</td>\n",
       "      <td>0.0507</td>\n",
       "      <td>30</td>\n",
       "      <td>24</td>\n",
       "    </tr>\n",
       "    <tr>\n",
       "      <th>1</th>\n",
       "      <td>25398</td>\n",
       "      <td>1</td>\n",
       "      <td>1986.875</td>\n",
       "      <td>27.593</td>\n",
       "      <td>0.0507</td>\n",
       "      <td>30</td>\n",
       "      <td>24</td>\n",
       "    </tr>\n",
       "    <tr>\n",
       "      <th>2</th>\n",
       "      <td>25398</td>\n",
       "      <td>1</td>\n",
       "      <td>1986.958</td>\n",
       "      <td>28.226</td>\n",
       "      <td>0.0499</td>\n",
       "      <td>31</td>\n",
       "      <td>24</td>\n",
       "    </tr>\n",
       "    <tr>\n",
       "      <th>3</th>\n",
       "      <td>25398</td>\n",
       "      <td>1</td>\n",
       "      <td>1987.042</td>\n",
       "      <td>27.581</td>\n",
       "      <td>0.0499</td>\n",
       "      <td>31</td>\n",
       "      <td>24</td>\n",
       "    </tr>\n",
       "    <tr>\n",
       "      <th>4</th>\n",
       "      <td>25398</td>\n",
       "      <td>1</td>\n",
       "      <td>1987.125</td>\n",
       "      <td>27.996</td>\n",
       "      <td>0.0525</td>\n",
       "      <td>28</td>\n",
       "      <td>24</td>\n",
       "    </tr>\n",
       "  </tbody>\n",
       "</table>\n",
       "</div>"
      ],
      "text/plain": [
       "   station_id  series_number      date    temp  uncertainty  observations  \\\n",
       "0       25398              1  1986.708  26.611       0.0507            30   \n",
       "1       25398              1  1986.875  27.593       0.0507            30   \n",
       "2       25398              1  1986.958  28.226       0.0499            31   \n",
       "3       25398              1  1987.042  27.581       0.0499            31   \n",
       "4       25398              1  1987.125  27.996       0.0525            28   \n",
       "\n",
       "   ob_hour  \n",
       "0       24  \n",
       "1       24  \n",
       "2       24  \n",
       "3       24  \n",
       "4       24  "
      ]
     },
     "execution_count": 4,
     "metadata": {},
     "output_type": "execute_result"
    }
   ],
   "source": [
    "df.head()"
   ]
  },
  {
   "cell_type": "code",
   "execution_count": 5,
   "metadata": {
    "collapsed": false
   },
   "outputs": [],
   "source": [
    "temp_x = pd.read_csv('temp_X.csv')"
   ]
  },
  {
   "cell_type": "code",
   "execution_count": 6,
   "metadata": {
    "collapsed": false
   },
   "outputs": [
    {
     "data": {
      "text/html": [
       "<div>\n",
       "<table border=\"1\" class=\"dataframe\">\n",
       "  <thead>\n",
       "    <tr style=\"text-align: right;\">\n",
       "      <th></th>\n",
       "      <th>Unnamed: 0</th>\n",
       "      <th>Station_ID</th>\n",
       "      <th>Series_Number</th>\n",
       "      <th>Date</th>\n",
       "      <th>X</th>\n",
       "    </tr>\n",
       "  </thead>\n",
       "  <tbody>\n",
       "    <tr>\n",
       "      <th>0</th>\n",
       "      <td>0</td>\n",
       "      <td>25398</td>\n",
       "      <td>1</td>\n",
       "      <td>1986.708</td>\n",
       "      <td>79.8998</td>\n",
       "    </tr>\n",
       "    <tr>\n",
       "      <th>1</th>\n",
       "      <td>1</td>\n",
       "      <td>25398</td>\n",
       "      <td>1</td>\n",
       "      <td>1986.875</td>\n",
       "      <td>81.6674</td>\n",
       "    </tr>\n",
       "    <tr>\n",
       "      <th>2</th>\n",
       "      <td>2</td>\n",
       "      <td>25398</td>\n",
       "      <td>1</td>\n",
       "      <td>1986.958</td>\n",
       "      <td>82.8068</td>\n",
       "    </tr>\n",
       "    <tr>\n",
       "      <th>3</th>\n",
       "      <td>3</td>\n",
       "      <td>25398</td>\n",
       "      <td>1</td>\n",
       "      <td>1987.042</td>\n",
       "      <td>81.6458</td>\n",
       "    </tr>\n",
       "    <tr>\n",
       "      <th>4</th>\n",
       "      <td>4</td>\n",
       "      <td>25398</td>\n",
       "      <td>1</td>\n",
       "      <td>1987.125</td>\n",
       "      <td>82.3928</td>\n",
       "    </tr>\n",
       "  </tbody>\n",
       "</table>\n",
       "</div>"
      ],
      "text/plain": [
       "   Unnamed: 0  Station_ID  Series_Number      Date        X\n",
       "0           0       25398              1  1986.708  79.8998\n",
       "1           1       25398              1  1986.875  81.6674\n",
       "2           2       25398              1  1986.958  82.8068\n",
       "3           3       25398              1  1987.042  81.6458\n",
       "4           4       25398              1  1987.125  82.3928"
      ]
     },
     "execution_count": 6,
     "metadata": {},
     "output_type": "execute_result"
    }
   ],
   "source": [
    "temp_x.head()"
   ]
  },
  {
   "cell_type": "code",
   "execution_count": 7,
   "metadata": {
    "collapsed": false
   },
   "outputs": [],
   "source": [
    "temp_x.columns = ['unnamed', 'station_id', 'series_number', 'date', 'X']\n",
    "temp_x = temp_x[['station_id', 'series_number', 'date', 'X']]\n",
    "df = df.merge(temp_x, on=['station_id', 'series_number', 'date'], left_index=True, right_index=True, how='outer')"
   ]
  },
  {
   "cell_type": "code",
   "execution_count": 28,
   "metadata": {
    "collapsed": false
   },
   "outputs": [
    {
     "data": {
      "text/html": [
       "<div>\n",
       "<table border=\"1\" class=\"dataframe\">\n",
       "  <thead>\n",
       "    <tr style=\"text-align: right;\">\n",
       "      <th></th>\n",
       "      <th>station_id</th>\n",
       "      <th>series_number</th>\n",
       "      <th>date</th>\n",
       "      <th>temp</th>\n",
       "      <th>uncertainty</th>\n",
       "      <th>observations</th>\n",
       "      <th>ob_hour</th>\n",
       "      <th>X</th>\n",
       "    </tr>\n",
       "  </thead>\n",
       "  <tbody>\n",
       "    <tr>\n",
       "      <th>0</th>\n",
       "      <td>25398</td>\n",
       "      <td>1</td>\n",
       "      <td>1986.708</td>\n",
       "      <td>26.611</td>\n",
       "      <td>0.0507</td>\n",
       "      <td>30</td>\n",
       "      <td>24</td>\n",
       "      <td>79.8998</td>\n",
       "    </tr>\n",
       "    <tr>\n",
       "      <th>1</th>\n",
       "      <td>25398</td>\n",
       "      <td>1</td>\n",
       "      <td>1986.875</td>\n",
       "      <td>27.593</td>\n",
       "      <td>0.0507</td>\n",
       "      <td>30</td>\n",
       "      <td>24</td>\n",
       "      <td>81.6674</td>\n",
       "    </tr>\n",
       "    <tr>\n",
       "      <th>2</th>\n",
       "      <td>25398</td>\n",
       "      <td>1</td>\n",
       "      <td>1986.958</td>\n",
       "      <td>28.226</td>\n",
       "      <td>0.0499</td>\n",
       "      <td>31</td>\n",
       "      <td>24</td>\n",
       "      <td>82.8068</td>\n",
       "    </tr>\n",
       "    <tr>\n",
       "      <th>3</th>\n",
       "      <td>25398</td>\n",
       "      <td>1</td>\n",
       "      <td>1987.042</td>\n",
       "      <td>27.581</td>\n",
       "      <td>0.0499</td>\n",
       "      <td>31</td>\n",
       "      <td>24</td>\n",
       "      <td>81.6458</td>\n",
       "    </tr>\n",
       "    <tr>\n",
       "      <th>4</th>\n",
       "      <td>25398</td>\n",
       "      <td>1</td>\n",
       "      <td>1987.125</td>\n",
       "      <td>27.996</td>\n",
       "      <td>0.0525</td>\n",
       "      <td>28</td>\n",
       "      <td>24</td>\n",
       "      <td>82.3928</td>\n",
       "    </tr>\n",
       "  </tbody>\n",
       "</table>\n",
       "</div>"
      ],
      "text/plain": [
       "   station_id  series_number      date    temp  uncertainty  observations  \\\n",
       "0       25398              1  1986.708  26.611       0.0507            30   \n",
       "1       25398              1  1986.875  27.593       0.0507            30   \n",
       "2       25398              1  1986.958  28.226       0.0499            31   \n",
       "3       25398              1  1987.042  27.581       0.0499            31   \n",
       "4       25398              1  1987.125  27.996       0.0525            28   \n",
       "\n",
       "   ob_hour        X  \n",
       "0       24  79.8998  \n",
       "1       24  81.6674  \n",
       "2       24  82.8068  \n",
       "3       24  81.6458  \n",
       "4       24  82.3928  "
      ]
     },
     "execution_count": 28,
     "metadata": {},
     "output_type": "execute_result"
    }
   ],
   "source": [
    "df.head()"
   ]
  },
  {
   "cell_type": "code",
   "execution_count": 65,
   "metadata": {
    "collapsed": false
   },
   "outputs": [
    {
     "data": {
      "text/plain": [
       "<matplotlib.collections.PathCollection at 0x11ad4c410>"
      ]
     },
     "execution_count": 65,
     "metadata": {},
     "output_type": "execute_result"
    },
    {
     "data": {
      "image/png": "[encoded data removed]",
      "text/plain": [
       "<matplotlib.figure.Figure at 0x10e05a390>"
      ]
     },
     "metadata": {},
     "output_type": "display_data"
    }
   ],
   "source": [
    "%matplotlib inline\n",
    "import seaborn as sns\n",
    "import matplotlib.pyplot as plt\n",
    "plt.scatter(df.X, df.temp)"
   ]
  },
  {
   "cell_type": "markdown",
   "metadata": {},
   "source": [
    "There's definitely a linear relationship."
   ]
  },
  {
   "cell_type": "markdown",
   "metadata": {
    "collapsed": true
   },
   "source": [
    "## Using Statsmodels"
   ]
  },
  {
   "cell_type": "code",
   "execution_count": null,
   "metadata": {
    "collapsed": true
   },
   "outputs": [],
   "source": []
  },
  {
   "cell_type": "code",
   "execution_count": 18,
   "metadata": {
    "collapsed": true
   },
   "outputs": [],
   "source": [
    "import statsmodels.api as sm\n",
    "X = sm.add_constant(df.X)"
   ]
  },
  {
   "cell_type": "code",
   "execution_count": 22,
   "metadata": {
    "collapsed": false
   },
   "outputs": [],
   "source": [
    "model = sm.OLS(df.temp, X)"
   ]
  },
  {
   "cell_type": "code",
   "execution_count": 23,
   "metadata": {
    "collapsed": true
   },
   "outputs": [],
   "source": [
    "results = model.fit()"
   ]
  },
  {
   "cell_type": "code",
   "execution_count": 24,
   "metadata": {
    "collapsed": false
   },
   "outputs": [
    {
     "data": {
      "text/html": [
       "<table class=\"simpletable\">\n",
       "<caption>OLS Regression Results</caption>\n",
       "<tr>\n",
       "  <th>Dep. Variable:</th>          <td>temp</td>       <th>  R-squared:         </th>  <td>   1.000</td> \n",
       "</tr>\n",
       "<tr>\n",
       "  <th>Model:</th>                   <td>OLS</td>       <th>  Adj. R-squared:    </th>  <td>   1.000</td> \n",
       "</tr>\n",
       "<tr>\n",
       "  <th>Method:</th>             <td>Least Squares</td>  <th>  F-statistic:       </th>  <td>2.087e+36</td>\n",
       "</tr>\n",
       "<tr>\n",
       "  <th>Date:</th>             <td>Tue, 14 Mar 2017</td> <th>  Prob (F-statistic):</th>   <td>  0.00</td>  \n",
       "</tr>\n",
       "<tr>\n",
       "  <th>Time:</th>                 <td>16:37:23</td>     <th>  Log-Likelihood:    </th> <td>4.1778e+06</td>\n",
       "</tr>\n",
       "<tr>\n",
       "  <th>No. Observations:</th>      <td>141637</td>      <th>  AIC:               </th> <td>-8.356e+06</td>\n",
       "</tr>\n",
       "<tr>\n",
       "  <th>Df Residuals:</th>          <td>141635</td>      <th>  BIC:               </th> <td>-8.356e+06</td>\n",
       "</tr>\n",
       "<tr>\n",
       "  <th>Df Model:</th>              <td>     1</td>      <th>                     </th>      <td> </td>    \n",
       "</tr>\n",
       "<tr>\n",
       "  <th>Covariance Type:</th>      <td>nonrobust</td>    <th>                     </th>      <td> </td>    \n",
       "</tr>\n",
       "</table>\n",
       "<table class=\"simpletable\">\n",
       "<tr>\n",
       "    <td></td>       <th>coef</th>     <th>std err</th>      <th>t</th>      <th>P>|t|</th> <th>[95.0% Conf. Int.]</th> \n",
       "</tr>\n",
       "<tr>\n",
       "  <th>const</th> <td>  -17.7778</td> <td> 1.02e-16</td> <td>-1.74e+17</td> <td> 0.000</td> <td>  -17.778   -17.778</td>\n",
       "</tr>\n",
       "<tr>\n",
       "  <th>X</th>     <td>    0.5556</td> <td> 3.85e-19</td> <td> 1.44e+18</td> <td> 0.000</td> <td>    0.556     0.556</td>\n",
       "</tr>\n",
       "</table>\n",
       "<table class=\"simpletable\">\n",
       "<tr>\n",
       "  <th>Omnibus:</th>       <td>494135.768</td> <th>  Durbin-Watson:     </th>     <td>   0.545</td>    \n",
       "</tr>\n",
       "<tr>\n",
       "  <th>Prob(Omnibus):</th>   <td> 0.000</td>   <th>  Jarque-Bera (JB):  </th> <td>130887235361.889</td>\n",
       "</tr>\n",
       "<tr>\n",
       "  <th>Skew:</th>            <td>67.895</td>   <th>  Prob(JB):          </th>     <td>    0.00</td>    \n",
       "</tr>\n",
       "<tr>\n",
       "  <th>Kurtosis:</th>       <td>4710.445</td>  <th>  Cond. No.          </th>     <td>    273.</td>    \n",
       "</tr>\n",
       "</table>"
      ],
      "text/plain": [
       "<class 'statsmodels.iolib.summary.Summary'>\n",
       "\"\"\"\n",
       "                            OLS Regression Results                            \n",
       "==============================================================================\n",
       "Dep. Variable:                   temp   R-squared:                       1.000\n",
       "Model:                            OLS   Adj. R-squared:                  1.000\n",
       "Method:                 Least Squares   F-statistic:                 2.087e+36\n",
       "Date:                Tue, 14 Mar 2017   Prob (F-statistic):               0.00\n",
       "Time:                        16:37:23   Log-Likelihood:             4.1778e+06\n",
       "No. Observations:              141637   AIC:                        -8.356e+06\n",
       "Df Residuals:                  141635   BIC:                        -8.356e+06\n",
       "Df Model:                           1                                         \n",
       "Covariance Type:            nonrobust                                         \n",
       "==============================================================================\n",
       "                 coef    std err          t      P>|t|      [95.0% Conf. Int.]\n",
       "------------------------------------------------------------------------------\n",
       "const        -17.7778   1.02e-16  -1.74e+17      0.000       -17.778   -17.778\n",
       "X              0.5556   3.85e-19   1.44e+18      0.000         0.556     0.556\n",
       "==============================================================================\n",
       "Omnibus:                   494135.768   Durbin-Watson:                   0.545\n",
       "Prob(Omnibus):                  0.000   Jarque-Bera (JB):     130887235361.889\n",
       "Skew:                          67.895   Prob(JB):                         0.00\n",
       "Kurtosis:                    4710.445   Cond. No.                         273.\n",
       "==============================================================================\n",
       "\n",
       "Warnings:\n",
       "[1] Standard Errors assume that the covariance matrix of the errors is correctly specified.\n",
       "\"\"\""
      ]
     },
     "execution_count": 24,
     "metadata": {},
     "output_type": "execute_result"
    }
   ],
   "source": [
    "results.summary()"
   ]
  },
  {
   "cell_type": "code",
   "execution_count": 25,
   "metadata": {
    "collapsed": false
   },
   "outputs": [
    {
     "data": {
      "text/plain": [
       "const   -17.777778\n",
       "X         0.555556\n",
       "dtype: float64"
      ]
     },
     "execution_count": 25,
     "metadata": {},
     "output_type": "execute_result"
    }
   ],
   "source": [
    "results.params"
   ]
  },
  {
   "cell_type": "markdown",
   "metadata": {},
   "source": [
    "Looks like X is the temp in Farenheit and Y is the temp in Celcius so there is a perfect linear relationship\n",
    "hence the r squared of 1.00 and the equation is the conversion of Farenheit to Celcius\n",
    "Yes this is a perfect fit.\n",
    "\n",
    "Regardless, taking a look at the residuals (which will be zero)\n"
   ]
  },
  {
   "cell_type": "code",
   "execution_count": 64,
   "metadata": {
    "collapsed": false
   },
   "outputs": [
    {
     "data": {
      "text/plain": [
       "<matplotlib.collections.PathCollection at 0x10e1b2510>"
      ]
     },
     "execution_count": 64,
     "metadata": {},
     "output_type": "execute_result"
    },
    {
     "data": {
      "image/png": "[encoded data removed]",
      "text/plain": [
       "<matplotlib.figure.Figure at 0x10de225d0>"
      ]
     },
     "metadata": {},
     "output_type": "display_data"
    }
   ],
   "source": [
    "resids = results.resid\n",
    "fitted_values= results.fittedvalues\n",
    "plt.scatter(fitted_values, resids)"
   ]
  },
  {
   "cell_type": "markdown",
   "metadata": {},
   "source": [
    "All of the residuals are zero, so no signal left in the data."
   ]
  },
  {
   "cell_type": "markdown",
   "metadata": {},
   "source": [
    "## Using sklearn"
   ]
  },
  {
   "cell_type": "code",
   "execution_count": 102,
   "metadata": {
    "collapsed": false
   },
   "outputs": [
    {
     "name": "stdout",
     "output_type": "stream",
     "text": [
      "intercept:  -17.7777777778\n",
      "coeffiction:  [ 0.55555556]\n"
     ]
    }
   ],
   "source": [
    "from sklearn import linear_model\n",
    "regr = linear_model.LinearRegression()\n",
    "lm = regr.fit(df[['X']], df.temp)\n",
    "lm.score(df[['X']], df.temp) # this is r squared\n",
    "print 'intercept: ', lm.intercept_\n",
    "print 'coeffiction: ', lm.coef_"
   ]
  },
  {
   "cell_type": "code",
   "execution_count": 104,
   "metadata": {
    "collapsed": false
   },
   "outputs": [
    {
     "name": "stdout",
     "output_type": "stream",
     "text": [
      "r squared:  1.0\n"
     ]
    }
   ],
   "source": [
    "print 'r squared: ', lm.score(df[['X']], df.temp)"
   ]
  },
  {
   "cell_type": "code",
   "execution_count": null,
   "metadata": {
    "collapsed": true
   },
   "outputs": [],
   "source": []
  }
 ],
 "metadata": {
  "kernelspec": {
   "display_name": "Python 2",
   "language": "python",
   "name": "python2"
  },
  "language_info": {
   "codemirror_mode": {
    "name": "ipython",
    "version": 2
   },
   "file_extension": ".py",
   "mimetype": "text/x-python",
   "name": "python",
   "nbconvert_exporter": "python",
   "pygments_lexer": "ipython2",
   "version": "2.7.11"
  }
 },
 "nbformat": 4,
 "nbformat_minor": 0
}
