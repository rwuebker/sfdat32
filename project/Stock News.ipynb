{
 "cells": [
  {
   "cell_type": "code",
   "execution_count": 28,
   "metadata": {
    "collapsed": false
   },
   "outputs": [
    {
     "name": "stdout",
     "output_type": "stream",
     "text": [
      "b\"Georgia 'downs two Russian warplanes' as countries move to brink of war\"\n"
     ]
    }
   ],
   "source": [
    "import pandas as pd\n",
    "data = pd.read_csv('Combined_News_DJIA.csv')\n",
    "print data.loc[0,'Top1'].decode('ascii')"
   ]
  },
  {
   "cell_type": "code",
   "execution_count": 43,
   "metadata": {
    "collapsed": false
   },
   "outputs": [],
   "source": [
    "new_df = pd.DataFrame(columns=['date', 'label', 'topics'])\n",
    "stem = 'Top'\n",
    "for index, row in data.iterrows():\n",
    "    date = row['Date']\n",
    "    label = row['Label']\n",
    "    topics = ''\n",
    "    for i in range(1,6):\n",
    "        col_name = stem + str(i)\n",
    "        text = row[col_name].decode('ascii')[1:]\n",
    "        text = text.replace('\"','')\n",
    "        text = text.replace(\"'\",\"\")\n",
    "        text = text.replace(',','')\n",
    "        topics = topics + text + ' '\n",
    "        \n",
    "    new_data = {\n",
    "        'date':date,\n",
    "        'label':label,\n",
    "        'topics':topics\n",
    "    }\n",
    "    new_df = new_df.append(new_data, ignore_index=True)"
   ]
  },
  {
   "cell_type": "code",
   "execution_count": 44,
   "metadata": {
    "collapsed": false
   },
   "outputs": [
    {
     "data": {
      "text/plain": [
       "u'Georgia downs two Russian warplanes as countries move to brink of war BREAKING: Musharraf to be impeached. Russia Today: Columns of troops roll into South Ossetia; footage from fighting (YouTube) Russian tanks are moving towards the capital of South Ossetia which has reportedly been completely destroyed by Georgian artillery fire Afghan children raped with impunity U.N. official says - this is sick a three year old was raped and they do nothing '"
      ]
     },
     "execution_count": 44,
     "metadata": {},
     "output_type": "execute_result"
    }
   ],
   "source": [
    "new_df.loc[0,'topics']"
   ]
  },
  {
   "cell_type": "code",
   "execution_count": null,
   "metadata": {
    "collapsed": true
   },
   "outputs": [],
   "source": []
  }
 ],
 "metadata": {
  "kernelspec": {
   "display_name": "Python 2",
   "language": "python",
   "name": "python2"
  },
  "language_info": {
   "codemirror_mode": {
    "name": "ipython",
    "version": 2
   },
   "file_extension": ".py",
   "mimetype": "text/x-python",
   "name": "python",
   "nbconvert_exporter": "python",
   "pygments_lexer": "ipython2",
   "version": "2.7.11"
  }
 },
 "nbformat": 4,
 "nbformat_minor": 0
}
